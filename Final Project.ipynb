{
 "cells": [
  {
   "attachments": {},
   "cell_type": "markdown",
   "metadata": {},
   "source": [
    "## Phys 704 Final Project\n",
    "\n",
    " ##### Name: Michael Bouliane \n",
    " ##### ID: 20801403"
   ]
  },
  {
   "attachments": {},
   "cell_type": "markdown",
   "metadata": {},
   "source": [
    "## Setting Up Ising Model Class"
   ]
  },
  {
   "attachments": {},
   "cell_type": "markdown",
   "metadata": {},
   "source": [
    "Ising hamiltonian defined as:\n",
    "\n",
    "$$ H = -J\\sum_{\\langle i,j \\rangle} \\sigma_{i} \\sigma_{j} $$\n",
    "\n",
    "Where $J=1$ and $\\sigma_{i} = \\pm 1$. Lattice is a square lattice of size $L \\times L$, where spins are initialized in random configurations."
   ]
  },
  {
   "cell_type": "code",
   "execution_count": 111,
   "metadata": {},
   "outputs": [],
   "source": [
    "import numpy as np\n",
    "import matplotlib.pyplot as plt\n",
    "\n",
    "rng = np.random.default_rng() #used to generate ising lattice and indices for spin flips\n",
    "\n",
    "class IsingSystem():\n",
    "    def __init__(self,T=1.,L=5):\n",
    "        '''Initializes an Ising lattice of size LxL with reciprocal temperature T'''\n",
    "        \n",
    "        self.temp = T\n",
    "        self.lattice_size = L\n",
    "\n",
    "        self.lattice = rng.choice((-1,1), size=(self.lattice_size, self.lattice_size))\n",
    "    \n",
    "    def Energy(self,idx):\n",
    "        '''Computes the energy of a single spin site at given location\n",
    "        \n",
    "        Args:\n",
    "        idx: Site index of spin\n",
    "\n",
    "        Returns:\n",
    "        E: Energy of site computed with Ising hamiltonian'''\n",
    "\n",
    "        site = self.lattice[idx]\n",
    "\n",
    "        left = (idx[0], idx[1]-1)\n",
    "        right = (idx[0], (idx[1]+1)%self.lattice_size)\n",
    "        top = (idx[0]-1, idx[1])\n",
    "        bottom = ((idx[0]+1)%self.lattice_size, idx[1])\n",
    "\n",
    "        E = -site*sum((self.lattice[left], self.lattice[right], self.lattice[top], self.lattice[bottom]))\n",
    "        \n",
    "        return(E)\n",
    "\n",
    "    def Metropolis(self, steps):\n",
    "        '''Performs \\'steps\\' number of Metropolis samplings on system\n",
    "        \n",
    "        Args:\n",
    "        steps: Number of MC steps to take'''\n",
    "\n",
    "        steps = int(steps)\n",
    "        idxs = rng.integers(0,self.lattice_size,(steps,2)) #random sites for spin flips\n",
    "        probs = rng.random(size=steps) #array of acceptance probabilities\n",
    "\n",
    "        for i in range(steps):\n",
    "            idx = tuple(idxs[i,:])\n",
    "            Ei = self.Energy(idx)\n",
    "            Ef = -Ei\n",
    "\n",
    "            dE = Ef-Ei\n",
    "\n",
    "            # if final state is lower in energy, accept the spin flip\n",
    "            if dE <= 0: \n",
    "                self.lattice[idx] = -self.lattice[idx]\n",
    "\n",
    "            else:\n",
    "                boltz_fact = np.exp(-dE*self.temp) #boltzmann weight of energy difference\n",
    "                probs[i] = rng.random() #acceptance probability\n",
    "\n",
    "                # accept the spin flip that increases energy if boltzmann weight > acceptance prob\n",
    "                if probs[i]<boltz_fact:\n",
    "                    self.lattice[idx] = -self.lattice[idx]"
   ]
  }
 ],
 "metadata": {
  "kernelspec": {
   "display_name": "Python 3",
   "language": "python",
   "name": "python3"
  },
  "language_info": {
   "codemirror_mode": {
    "name": "ipython",
    "version": 3
   },
   "file_extension": ".py",
   "mimetype": "text/x-python",
   "name": "python",
   "nbconvert_exporter": "python",
   "pygments_lexer": "ipython3",
   "version": "3.10.9"
  },
  "orig_nbformat": 4,
  "vscode": {
   "interpreter": {
    "hash": "b0fa6594d8f4cbf19f97940f81e996739fb7646882a419484c72d19e05852a7e"
   }
  }
 },
 "nbformat": 4,
 "nbformat_minor": 2
}
